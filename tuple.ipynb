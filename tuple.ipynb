{
 "cells": [
  {
   "cell_type": "code",
   "execution_count": 1,
   "metadata": {},
   "outputs": [
    {
     "name": "stdout",
     "output_type": "stream",
     "text": [
      "(1, 'hello', 'hey', 5.6, True, 1, 1, 1, 1)\n"
     ]
    }
   ],
   "source": [
    "x = (1, \"hello\", 'hey', 5.6, True,1,1,1,1)\n",
    "\n",
    "print(x)"
   ]
  },
  {
   "cell_type": "code",
   "execution_count": 2,
   "metadata": {},
   "outputs": [
    {
     "ename": "TypeError",
     "evalue": "'tuple' object does not support item assignment",
     "output_type": "error",
     "traceback": [
      "\u001b[1;31m---------------------------------------------------------------------------\u001b[0m",
      "\u001b[1;31mTypeError\u001b[0m                                 Traceback (most recent call last)",
      "\u001b[1;32m<ipython-input-2-cd5b6cacb867>\u001b[0m in \u001b[0;36m<module>\u001b[1;34m\u001b[0m\n\u001b[1;32m----> 1\u001b[1;33m \u001b[0mx\u001b[0m\u001b[1;33m[\u001b[0m\u001b[1;36m1\u001b[0m\u001b[1;33m]\u001b[0m \u001b[1;33m=\u001b[0m \u001b[1;36m1000\u001b[0m\u001b[1;33m\u001b[0m\u001b[1;33m\u001b[0m\u001b[0m\n\u001b[0m\u001b[0;32m      2\u001b[0m \u001b[0mprint\u001b[0m\u001b[1;33m(\u001b[0m\u001b[0mx\u001b[0m\u001b[1;33m)\u001b[0m\u001b[1;33m\u001b[0m\u001b[1;33m\u001b[0m\u001b[0m\n",
      "\u001b[1;31mTypeError\u001b[0m: 'tuple' object does not support item assignment"
     ]
    }
   ],
   "source": [
    "x[1] = 1000\n",
    "print(x)"
   ]
  },
  {
   "cell_type": "code",
   "execution_count": 11,
   "metadata": {},
   "outputs": [
    {
     "name": "stdout",
     "output_type": "stream",
     "text": [
      "5\n",
      "55\n",
      "170\n",
      "6\n",
      "1\n",
      "4\n"
     ]
    }
   ],
   "source": [
    "x = (11,22,33,44,5,55)\n",
    "print(min(x))\n",
    "print(max(x))\n",
    "print(sum(x))\n",
    "print(len(x))\n",
    "print(x.count(33))\n",
    "print(x.index(5))"
   ]
  },
  {
   "cell_type": "code",
   "execution_count": 4,
   "metadata": {},
   "outputs": [
    {
     "name": "stdout",
     "output_type": "stream",
     "text": [
      "(11, 28, 33, 44, 5, 55)\n"
     ]
    }
   ],
   "source": [
    "x = (11,22,33,44,5,55)\n",
    "\n",
    "y = list(x)\n",
    "y[1] =  28\n",
    "x = tuple(y)\n",
    "\n",
    "print(x)"
   ]
  },
  {
   "cell_type": "code",
   "execution_count": 5,
   "metadata": {},
   "outputs": [
    {
     "name": "stdout",
     "output_type": "stream",
     "text": [
      "<class 'tuple'>\n",
      "<class 'tuple'>\n",
      "<class 'str'>\n"
     ]
    }
   ],
   "source": [
    "x = (\"hello\",\"hey\")\n",
    "y = (\"hello\",)\n",
    "z = (\"hello\")\n",
    "\n",
    "print(type(x))\n",
    "print(type(y))\n",
    "print(type(z))"
   ]
  },
  {
   "cell_type": "code",
   "execution_count": 9,
   "metadata": {},
   "outputs": [
    {
     "name": "stdout",
     "output_type": "stream",
     "text": [
      "<class 'int'> --- 15\n",
      "<class 'int'> --- 16\n",
      "<class 'int'> --- 17\n"
     ]
    }
   ],
   "source": [
    "x,y,z = (15,16,17)\n",
    "\n",
    "print(type(x),\"---\",x)\n",
    "print(type(y),\"---\",y)\n",
    "print(type(z),\"---\",z)"
   ]
  },
  {
   "cell_type": "code",
   "execution_count": 10,
   "metadata": {},
   "outputs": [
    {
     "name": "stdout",
     "output_type": "stream",
     "text": [
      "(7, 8)\n",
      "(5, 6)\n"
     ]
    }
   ],
   "source": [
    "x = (5,6)\n",
    "y = (7,8)\n",
    "\n",
    "x,y = y,x\n",
    "\n",
    "print(x)\n",
    "print(y)"
   ]
  },
  {
   "cell_type": "code",
   "execution_count": 12,
   "metadata": {},
   "outputs": [
    {
     "name": "stdout",
     "output_type": "stream",
     "text": [
      "(1, 2, 3, 5, 6, 7)\n"
     ]
    }
   ],
   "source": [
    "x = (1,2,3)\n",
    "y = (5,6,7)\n",
    "\n",
    "# output\n",
    "# z  = (1,2,3,4,5,6,7)\n",
    "z  =  x + y\n",
    "\n",
    "print(z)"
   ]
  },
  {
   "cell_type": "code",
   "execution_count": 25,
   "metadata": {},
   "outputs": [
    {
     "name": "stdout",
     "output_type": "stream",
     "text": [
      "(1, 2, 3, 4, (5, 6, 7, 8), 9, 10)\n"
     ]
    }
   ],
   "source": [
    "\n",
    "# x =  [1,2,3,4,(5,6,7,8),9,10]\n",
    "y =  (1,2,3,4,[5,6,7,8],9,10)\n",
    "\n",
    "x = list(y)\n",
    "x[4] = tuple(x[4])\n",
    "y = tuple(x)\n",
    "print(y)\n",
    "\n"
   ]
  },
  {
   "cell_type": "code",
   "execution_count": null,
   "metadata": {},
   "outputs": [],
   "source": [
    "# Q1. wap to sum and multiply every element of given list to each other\n",
    "# without using inbuilt function\n",
    "x = [1,2,3,4,5]\n",
    "\n",
    "\n",
    "# Q2. \n",
    "x = [1,[2,[3,4],5],6]\n",
    "# output:-\n",
    "z = [1,2,3,4,5,6]\n",
    "\n",
    "\n",
    "\n",
    "x =  \"aa22\"\n",
    "y = \"\"\n",
    "\n",
    "for i in x:\n",
    "    "
   ]
  }
 ],
 "metadata": {
  "kernelspec": {
   "display_name": "Python 3 (ipykernel)",
   "language": "python",
   "name": "python3"
  },
  "language_info": {
   "codemirror_mode": {
    "name": "ipython",
    "version": 3
   },
   "file_extension": ".py",
   "mimetype": "text/x-python",
   "name": "python",
   "nbconvert_exporter": "python",
   "pygments_lexer": "ipython3",
   "version": "3.10.9"
  }
 },
 "nbformat": 4,
 "nbformat_minor": 4
}
