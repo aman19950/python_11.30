{
 "cells": [
  {
   "cell_type": "code",
   "execution_count": null,
   "metadata": {},
   "outputs": [],
   "source": [
    "if(100>15):\n",
    "    print(\"hello\")\n",
    "else:\n",
    "    print(\"bye\")"
   ]
  },
  {
   "cell_type": "code",
   "execution_count": null,
   "metadata": {},
   "outputs": [],
   "source": [
    "\n",
    "if(10 >15):\n",
    "    print(\"hello\")\n",
    "elif(10 >14):\n",
    "    print(\"hey\")\n",
    "elif(30>45):\n",
    "    print(\"hi\")\n",
    "else:\n",
    "    print(\"bye\")"
   ]
  },
  {
   "cell_type": "code",
   "execution_count": 2,
   "metadata": {},
   "outputs": [
    {
     "name": "stdout",
     "output_type": "stream",
     "text": [
      "B is greater\n"
     ]
    }
   ],
   "source": [
    "a = 13\n",
    "b = 15\n",
    "# print(\"A is greater\") if a > b else print(\"=\") if a == b else print(\"B is greater\")\n",
    "if (a > b):\n",
    "    print(\"A is greater\")\n",
    "else:\n",
    "    if (a==b):\n",
    "        print(\"=\")\n",
    "    else:\n",
    "        print(\"B is greater\")\n"
   ]
  },
  {
   "cell_type": "code",
   "execution_count": 3,
   "metadata": {},
   "outputs": [
    {
     "name": "stdout",
     "output_type": "stream",
     "text": [
      "hello\n"
     ]
    }
   ],
   "source": [
    "if(10 >5):\n",
    "    print(\"hello\")\n",
    "else:\n",
    "    print(\"bye\")"
   ]
  },
  {
   "cell_type": "code",
   "execution_count": 4,
   "metadata": {},
   "outputs": [
    {
     "name": "stdout",
     "output_type": "stream",
     "text": [
      "one\n",
      "10.5\n",
      "-1000\n",
      "heyyyy\n",
      "true\n"
     ]
    }
   ],
   "source": [
    "if(1):\n",
    "    print(\"one\")\n",
    "    \n",
    "if(10.5):\n",
    "    print(\"10.5\")\n",
    "    \n",
    "if(-1000):\n",
    "    print(\"-1000\")\n",
    "    \n",
    "if(0):\n",
    "    print(\"zero\")\n",
    "    \n",
    "if(\"hello\"):\n",
    "    print(\"heyyyy\")\n",
    "    \n",
    "if(True):\n",
    "    print(\"true\")\n",
    "    \n",
    "if(False):\n",
    "    print(\"false\")\n",
    "    \n",
    "if(None):\n",
    "    print(\"none\")"
   ]
  },
  {
   "cell_type": "code",
   "execution_count": 5,
   "metadata": {},
   "outputs": [
    {
     "name": "stdout",
     "output_type": "stream",
     "text": [
      "enter a 1st number = 67\n",
      "enter a 2nd number = 47\n",
      "67 is greater\n"
     ]
    }
   ],
   "source": [
    "# Q1 wap to  find out which is greater between two numbers from user input\n",
    "\n",
    "\n",
    "x = int(input(\"enter a 1st number = \"))\n",
    "y = int(input(\"enter a 2nd number = \"))\n",
    "\n",
    "if(x>y):\n",
    "    print(x,\"is greater\")\n",
    "else:\n",
    "    print(y,\"is greater\")"
   ]
  },
  {
   "cell_type": "code",
   "execution_count": 11,
   "metadata": {},
   "outputs": [
    {
     "name": "stdout",
     "output_type": "stream",
     "text": [
      "enter a 1st side = 5\n",
      "enter a 2nd side = 6\n",
      "enter a 3rd side = 5\n",
      "sca. tri\n"
     ]
    }
   ],
   "source": [
    "# Q2 wap to check a triangle is eq., iso, and scal, from user input\n",
    "\n",
    "s1 = int(input(\"enter a 1st side = \"))\n",
    "s2 = int(input(\"enter a 2nd side = \"))\n",
    "s3 = int(input(\"enter a 3rd side = \"))\n",
    "\n",
    "if(s1 == s2 == s3):\n",
    "    print(\"eq. tri\")\n",
    "elif(s1 == s2 or s2 == s3 or s3 == s1):\n",
    "    print(\"iso. tri\")\n",
    "else:\n",
    "    print(\"sca. tri\")"
   ]
  },
  {
   "cell_type": "code",
   "execution_count": 19,
   "metadata": {},
   "outputs": [
    {
     "name": "stdout",
     "output_type": "stream",
     "text": [
      "enter a number = 563354345\n",
      "Buzz\n"
     ]
    }
   ],
   "source": [
    "# Q3 wap to print \"fizz if a number is divisible by 3\"\n",
    "# print \"buzz if a number is divisible by 5\"\n",
    "# print \"fizzBuzz\" if a number is divisible by both(3/5)\n",
    "\n",
    "x = int(input(\"enter a number = \"))\n",
    "\n",
    "\n",
    "if(x%3 == 0 and x%5 == 0):\n",
    "    print(\"fizzBuzz\")\n",
    "elif(x%5 == 0):\n",
    "    print(\"Buzz\")\n",
    "elif(x%3 == 0 ):\n",
    "    print(\"fizz\")\n",
    "else:\n",
    "    print(x,\"is not divisible by 3 or 5\")\n"
   ]
  },
  {
   "cell_type": "code",
   "execution_count": 20,
   "metadata": {},
   "outputs": [
    {
     "name": "stdout",
     "output_type": "stream",
     "text": [
      "enter a number = 56445\n",
      "5\n"
     ]
    }
   ],
   "source": [
    "x = int(input(\"enter a number = \"))\n",
    "print(x%10)"
   ]
  },
  {
   "cell_type": "code",
   "execution_count": 22,
   "metadata": {},
   "outputs": [
    {
     "name": "stdout",
     "output_type": "stream",
     "text": [
      "enter your percentage = 15.7\n",
      "Fail\n"
     ]
    }
   ],
   "source": [
    "x = float(input(\"enter your percentage = \"))\n",
    "\n",
    "if(x >=80 and x<=100):\n",
    "    print(\"grade A\")\n",
    "elif(x >60 and x<80):\n",
    "    print(\"grade B\")\n",
    "elif(x >40 and x<=60):\n",
    "    print(\"grade C\")\n",
    "elif(x >20 and x<=40):\n",
    "    print(\"grade D\")\n",
    "elif(x >0 and x<=20):\n",
    "    print(\"Fail\")\n",
    "else:\n",
    "    print(\"invalid percentage\")"
   ]
  },
  {
   "cell_type": "code",
   "execution_count": 25,
   "metadata": {},
   "outputs": [
    {
     "name": "stdout",
     "output_type": "stream",
     "text": [
      "hello\n"
     ]
    }
   ],
   "source": [
    "if (10 >5):\n",
    "    print(\"hello\")\n",
    "    if(20 < 5):\n",
    "        print(\"heyy\")\n",
    "        if(40 < 60):\n",
    "            print(\"hiiiii\")       \n",
    "        else:\n",
    "            print(\"bye\")\n",
    "else:\n",
    "    print(\"bye 2\")"
   ]
  },
  {
   "cell_type": "code",
   "execution_count": null,
   "metadata": {},
   "outputs": [],
   "source": []
  }
 ],
 "metadata": {
  "kernelspec": {
   "display_name": "Python 3 (ipykernel)",
   "language": "python",
   "name": "python3"
  },
  "language_info": {
   "codemirror_mode": {
    "name": "ipython",
    "version": 3
   },
   "file_extension": ".py",
   "mimetype": "text/x-python",
   "name": "python",
   "nbconvert_exporter": "python",
   "pygments_lexer": "ipython3",
   "version": "3.10.9"
  }
 },
 "nbformat": 4,
 "nbformat_minor": 4
}
