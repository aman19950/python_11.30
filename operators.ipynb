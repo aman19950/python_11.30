{
 "cells": [
  {
   "cell_type": "markdown",
   "id": "6633a72c",
   "metadata": {},
   "source": [
    "## Airthmatic op."
   ]
  },
  {
   "cell_type": "code",
   "execution_count": 1,
   "id": "905ee90d",
   "metadata": {},
   "outputs": [
    {
     "name": "stdout",
     "output_type": "stream",
     "text": [
      "20\n",
      "0\n",
      "100\n",
      "3.3333333333333335\n",
      "3\n",
      "1\n",
      "3\n",
      "8\n"
     ]
    }
   ],
   "source": [
    "print(10 + 10)    # 20\n",
    "print(10 - 10)    # 0\n",
    "print(10 * 10)    # 100\n",
    "print(10 / 3)     # 3.33\n",
    "print(10 // 3)    # 3.33     floor division\n",
    "print(10 % 5)      # 1      mod\n",
    "print(5 % 10)      # 3 \n",
    "print(2 ** 3)     # 8"
   ]
  },
  {
   "cell_type": "markdown",
   "id": "8de918a0",
   "metadata": {},
   "source": [
    "## relational op. and Conditional op"
   ]
  },
  {
   "cell_type": "code",
   "execution_count": 2,
   "id": "3b229e78",
   "metadata": {},
   "outputs": [
    {
     "name": "stdout",
     "output_type": "stream",
     "text": [
      "False\n",
      "False\n",
      "True\n",
      "True\n",
      "True\n",
      "False\n"
     ]
    }
   ],
   "source": [
    "print(10 > 10)     # F\n",
    "print(10 < 10)     # F\n",
    "print(10 >= 10)    # T\n",
    "print(10 <= 10)    # T\n",
    "print(10 == 10)    # T\n",
    "print(10 != 10)    # F"
   ]
  },
  {
   "cell_type": "markdown",
   "id": "85789eea",
   "metadata": {},
   "source": [
    "## Logical ope.\n",
    "- and ,or,not"
   ]
  },
  {
   "cell_type": "code",
   "execution_count": 3,
   "id": "bd4e5150",
   "metadata": {},
   "outputs": [
    {
     "name": "stdout",
     "output_type": "stream",
     "text": [
      "False\n"
     ]
    }
   ],
   "source": [
    "print(10 > 5 and 70 > 98)"
   ]
  },
  {
   "cell_type": "code",
   "execution_count": 4,
   "id": "044763ca",
   "metadata": {},
   "outputs": [
    {
     "name": "stdout",
     "output_type": "stream",
     "text": [
      "False\n"
     ]
    }
   ],
   "source": [
    "print(70 > 98 and 10 > 5)"
   ]
  },
  {
   "cell_type": "code",
   "execution_count": 5,
   "id": "d2195b0b",
   "metadata": {},
   "outputs": [
    {
     "name": "stdout",
     "output_type": "stream",
     "text": [
      "True\n"
     ]
    }
   ],
   "source": [
    "print(70 > 98 or 10 > 5)"
   ]
  },
  {
   "cell_type": "code",
   "execution_count": 7,
   "id": "05b4531f",
   "metadata": {},
   "outputs": [
    {
     "name": "stdout",
     "output_type": "stream",
     "text": [
      "True\n"
     ]
    }
   ],
   "source": [
    "print(700 > 98 or 10 > 5 and 89 < 70)"
   ]
  },
  {
   "cell_type": "code",
   "execution_count": 8,
   "id": "a3c5d4bb",
   "metadata": {},
   "outputs": [
    {
     "name": "stdout",
     "output_type": "stream",
     "text": [
      "False\n"
     ]
    }
   ],
   "source": [
    "print(not(10 > 5))"
   ]
  },
  {
   "cell_type": "markdown",
   "id": "9516f942",
   "metadata": {},
   "source": [
    "## Bitwise op.\n",
    "- &,|,<<,>>"
   ]
  },
  {
   "cell_type": "code",
   "execution_count": null,
   "id": "338ca13b",
   "metadata": {},
   "outputs": [],
   "source": []
  }
 ],
 "metadata": {
  "kernelspec": {
   "display_name": "Python 3 (ipykernel)",
   "language": "python",
   "name": "python3"
  },
  "language_info": {
   "codemirror_mode": {
    "name": "ipython",
    "version": 3
   },
   "file_extension": ".py",
   "mimetype": "text/x-python",
   "name": "python",
   "nbconvert_exporter": "python",
   "pygments_lexer": "ipython3",
   "version": "3.10.9"
  }
 },
 "nbformat": 4,
 "nbformat_minor": 5
}
