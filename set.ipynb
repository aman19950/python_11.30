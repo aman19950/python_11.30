{
 "cells": [
  {
   "cell_type": "markdown",
   "id": "702975b9",
   "metadata": {},
   "source": [
    "### Set\n",
    "\n",
    "- set is a collection unique elements\n",
    "- set is unordered\n",
    "- set is unindexed\n",
    "- set is <b>immutable</b>"
   ]
  },
  {
   "cell_type": "code",
   "execution_count": 1,
   "id": "45a14146",
   "metadata": {},
   "outputs": [
    {
     "name": "stdout",
     "output_type": "stream",
     "text": [
      "{4.7, 213, 'hello', 8, 12, 45}\n"
     ]
    }
   ],
   "source": [
    "x = {\"hello\",45,12,213,45,45,8,4.7}\n",
    "\n",
    "print(x)\n"
   ]
  },
  {
   "cell_type": "code",
   "execution_count": 2,
   "id": "786a3e6e",
   "metadata": {},
   "outputs": [
    {
     "name": "stdout",
     "output_type": "stream",
     "text": [
      "{33, 11, 22, 55, 56}\n"
     ]
    }
   ],
   "source": [
    "x = {11,22,33,55}\n",
    "x.add(56)\n",
    "print(x)\n"
   ]
  },
  {
   "cell_type": "code",
   "execution_count": 4,
   "id": "98cac544",
   "metadata": {},
   "outputs": [
    {
     "name": "stdout",
     "output_type": "stream",
     "text": [
      "{32, 33, 2, 11, 45, 212, 22, 55}\n"
     ]
    }
   ],
   "source": [
    "x = {11,22,33,55}\n",
    "y = {45,2,32,212}\n",
    "\n",
    "x.update(y)\n",
    "\n",
    "print(x)"
   ]
  },
  {
   "cell_type": "code",
   "execution_count": 7,
   "id": "35e0c10f",
   "metadata": {},
   "outputs": [
    {
     "name": "stdout",
     "output_type": "stream",
     "text": [
      "{1, 2, 3, 4}\n",
      "{1, 2, 3, 4, 5, 6}\n"
     ]
    }
   ],
   "source": [
    "x = {1,2,3,4}\n",
    "y = {1,5,6,4}\n",
    "\n",
    "# x.update(y)\n",
    "z = x.union(y)\n",
    "print(x)\n",
    "print(z)"
   ]
  },
  {
   "cell_type": "code",
   "execution_count": 11,
   "id": "899e5837",
   "metadata": {},
   "outputs": [
    {
     "name": "stdout",
     "output_type": "stream",
     "text": [
      "{2, 3}\n",
      "{2, 3, 5, 6}\n",
      "{1, 4}\n"
     ]
    }
   ],
   "source": [
    "x = {1,2,3,4}\n",
    "y = {1,5,6,4}\n",
    "\n",
    "z = x.difference(y)\n",
    "u = x.symmetric_difference(y)\n",
    "i = x.intersection(y)\n",
    "print(z)\n",
    "print(u)\n",
    "print(i)"
   ]
  },
  {
   "cell_type": "code",
   "execution_count": 17,
   "id": "a5d5c7cc",
   "metadata": {},
   "outputs": [
    {
     "name": "stdout",
     "output_type": "stream",
     "text": [
      "set()\n"
     ]
    }
   ],
   "source": [
    "x = {11,22,33,44,22,55,55,33,22}\n",
    "\n",
    "# x.remove(22)\n",
    "# x.remove(66)\n",
    "# x.discard(66)\n",
    "# z = x.pop()\n",
    "x.clear()\n",
    "print(x)\n",
    "# print(z)"
   ]
  },
  {
   "cell_type": "code",
   "execution_count": 18,
   "id": "4e6a2ea4",
   "metadata": {},
   "outputs": [
    {
     "name": "stdout",
     "output_type": "stream",
     "text": [
      "{45}\n"
     ]
    }
   ],
   "source": [
    "z =  set()\n",
    "z.add(45)\n",
    "print(z)"
   ]
  },
  {
   "cell_type": "code",
   "execution_count": 24,
   "id": "98065e21",
   "metadata": {},
   "outputs": [
    {
     "name": "stdout",
     "output_type": "stream",
     "text": [
      "{'abc', 'b', 'c', 'de', 'a', 'fg'}\n"
     ]
    }
   ],
   "source": [
    "x = set()\n",
    "x.add('abc')\n",
    "x.update(set([\"de\",\"fg\"]))\n",
    "x.update(set('abc'))\n",
    "\n",
    "print(x)"
   ]
  },
  {
   "cell_type": "code",
   "execution_count": null,
   "id": "ab833c93",
   "metadata": {},
   "outputs": [],
   "source": []
  }
 ],
 "metadata": {
  "kernelspec": {
   "display_name": "Python 3 (ipykernel)",
   "language": "python",
   "name": "python3"
  },
  "language_info": {
   "codemirror_mode": {
    "name": "ipython",
    "version": 3
   },
   "file_extension": ".py",
   "mimetype": "text/x-python",
   "name": "python",
   "nbconvert_exporter": "python",
   "pygments_lexer": "ipython3",
   "version": "3.10.9"
  }
 },
 "nbformat": 4,
 "nbformat_minor": 5
}
