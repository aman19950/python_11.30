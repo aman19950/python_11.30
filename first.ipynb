{
 "cells": [
  {
   "cell_type": "code",
   "execution_count": 3,
   "id": "b635da22",
   "metadata": {},
   "outputs": [
    {
     "name": "stdout",
     "output_type": "stream",
     "text": [
      "hello how are you\n",
      "hello how are you\n",
      "67\n",
      "6.8\n",
      "True\n"
     ]
    }
   ],
   "source": [
    "print(\"hello how are you\")\n",
    "print('hello how are you')\n",
    "\n",
    "\n",
    "print(67)\n",
    "\n",
    "\n",
    "print(6.8)\n",
    "\n",
    "print(True)"
   ]
  },
  {
   "cell_type": "code",
   "execution_count": 4,
   "id": "d142b89b",
   "metadata": {},
   "outputs": [
    {
     "name": "stdout",
     "output_type": "stream",
     "text": [
      "<class 'str'>\n",
      "<class 'int'>\n",
      "<class 'float'>\n"
     ]
    }
   ],
   "source": [
    "print(type(\"782\"))\n",
    "print(type(782))\n",
    "print(type(78.2))"
   ]
  },
  {
   "cell_type": "code",
   "execution_count": 7,
   "id": "02d1491b",
   "metadata": {},
   "outputs": [
    {
     "name": "stdout",
     "output_type": "stream",
     "text": [
      "4\n",
      "22\n",
      "10\n",
      "22222\n"
     ]
    }
   ],
   "source": [
    "print(2 + 2)          # 4\n",
    "# print(\"2\" + 2)        # error\n",
    "print(\"2\" + \"2\")      # 22\n",
    "print(2 * 5)          # 10\n",
    "print(\"2\" * 5)        # 22222\n",
    "# print(\"2\" * \"5\")      # error"
   ]
  },
  {
   "cell_type": "markdown",
   "id": "c1a0d321",
   "metadata": {},
   "source": [
    "## escape character\n",
    "- \\\n",
    "- \\t ---> one tab space\n",
    "- \\n ---> new line/ next line"
   ]
  },
  {
   "cell_type": "code",
   "execution_count": 9,
   "id": "821474bd",
   "metadata": {},
   "outputs": [
    {
     "name": "stdout",
     "output_type": "stream",
     "text": [
      "hello 'how' are you\n",
      "hello \"how\" are you\n"
     ]
    }
   ],
   "source": [
    "print(\"hello 'how' are you\")\n",
    "print('hello \"how\" are you')"
   ]
  },
  {
   "cell_type": "code",
   "execution_count": 14,
   "id": "2c304628",
   "metadata": {},
   "outputs": [
    {
     "name": "stdout",
     "output_type": "stream",
     "text": [
      "hello \"how are you\n",
      "hello 'how' are you\n"
     ]
    }
   ],
   "source": [
    "print(\"hello \\\"how are you\")\n",
    "print('hello \\'how\\' are you')"
   ]
  },
  {
   "cell_type": "code",
   "execution_count": 16,
   "id": "d9b61a6e",
   "metadata": {},
   "outputs": [
    {
     "name": "stdout",
     "output_type": "stream",
     "text": [
      "hello\t\thow are you\n"
     ]
    }
   ],
   "source": [
    "print(\"hello\\t\\thow are you\")"
   ]
  },
  {
   "cell_type": "code",
   "execution_count": 17,
   "id": "ca6f41e4",
   "metadata": {},
   "outputs": [
    {
     "name": "stdout",
     "output_type": "stream",
     "text": [
      "hello\n",
      "how are you\n"
     ]
    }
   ],
   "source": [
    "print(\"hello\\nhow are you\")"
   ]
  },
  {
   "cell_type": "code",
   "execution_count": 22,
   "id": "f9787708",
   "metadata": {},
   "outputs": [
    {
     "name": "stdout",
     "output_type": "stream",
     "text": [
      "\\t\n"
     ]
    }
   ],
   "source": [
    "print(\"\\\\t\")"
   ]
  },
  {
   "cell_type": "markdown",
   "id": "fa3f55c2",
   "metadata": {},
   "source": [
    "### Variables\n",
    "\n",
    "### Rules:-\n",
    "1. variables can be start with alphabets(not compulsory).\n",
    "       ex - a,abc,name,xyz,\n",
    "2. underscore( _ ) is the only special which is allowed to create variables.\n",
    "       ex - x_y,abc_123\n",
    "3. variables cannot be start with numbers.\n",
    "       ex -  123,456abc\n",
    "4. specials are not allowed to create variables except underscore( _ ).\n",
    "       ex - a$b,a&b, a b\n",
    "5. keywords are not allowed to create variables.\n",
    "       ex - if,else,def,class,True,False"
   ]
  },
  {
   "cell_type": "code",
   "execution_count": 25,
   "id": "d847354c",
   "metadata": {},
   "outputs": [
    {
     "data": {
      "text/plain": [
       "4"
      ]
     },
     "execution_count": 25,
     "metadata": {},
     "output_type": "execute_result"
    }
   ],
   "source": [
    "2+2"
   ]
  },
  {
   "cell_type": "code",
   "execution_count": 26,
   "id": "3d4f00f4",
   "metadata": {},
   "outputs": [
    {
     "data": {
      "text/plain": [
       "4"
      ]
     },
     "execution_count": 26,
     "metadata": {},
     "output_type": "execute_result"
    }
   ],
   "source": [
    "_"
   ]
  },
  {
   "cell_type": "code",
   "execution_count": 27,
   "id": "f5ef9c02",
   "metadata": {},
   "outputs": [
    {
     "data": {
      "text/plain": [
       "24"
      ]
     },
     "execution_count": 27,
     "metadata": {},
     "output_type": "execute_result"
    }
   ],
   "source": [
    "4 * 6"
   ]
  },
  {
   "cell_type": "code",
   "execution_count": 28,
   "id": "f22a3c79",
   "metadata": {},
   "outputs": [
    {
     "data": {
      "text/plain": [
       "24"
      ]
     },
     "execution_count": 28,
     "metadata": {},
     "output_type": "execute_result"
    }
   ],
   "source": [
    "_"
   ]
  },
  {
   "cell_type": "code",
   "execution_count": 29,
   "id": "bff5b4ea",
   "metadata": {},
   "outputs": [
    {
     "name": "stdout",
     "output_type": "stream",
     "text": [
      "hello how are you\n",
      "98\n",
      "9.6\n"
     ]
    }
   ],
   "source": [
    "x = \"hello how are you\"\n",
    "y = 98\n",
    "z = 9.6\n",
    "\n",
    "print(x)\n",
    "print(y)\n",
    "print(z)"
   ]
  },
  {
   "cell_type": "code",
   "execution_count": 32,
   "id": "6403ea1e",
   "metadata": {},
   "outputs": [
    {
     "name": "stdout",
     "output_type": "stream",
     "text": [
      "2056028619280\n",
      "2056028619280\n"
     ]
    }
   ],
   "source": [
    "x = 10\n",
    "y = 10\n",
    "\n",
    "print(id(x))\n",
    "print(id(y))"
   ]
  },
  {
   "cell_type": "code",
   "execution_count": 34,
   "id": "8b71e493",
   "metadata": {},
   "outputs": [
    {
     "name": "stdout",
     "output_type": "stream",
     "text": [
      "True\n",
      "False\n"
     ]
    }
   ],
   "source": [
    "x = [1,2,3]\n",
    "y = [1,2,3]\n",
    "\n",
    "print(x == y)   # True\n",
    "print(x is y)   # False"
   ]
  },
  {
   "cell_type": "code",
   "execution_count": null,
   "id": "d14211c7",
   "metadata": {},
   "outputs": [],
   "source": []
  }
 ],
 "metadata": {
  "kernelspec": {
   "display_name": "Python 3 (ipykernel)",
   "language": "python",
   "name": "python3"
  },
  "language_info": {
   "codemirror_mode": {
    "name": "ipython",
    "version": 3
   },
   "file_extension": ".py",
   "mimetype": "text/x-python",
   "name": "python",
   "nbconvert_exporter": "python",
   "pygments_lexer": "ipython3",
   "version": "3.10.9"
  }
 },
 "nbformat": 4,
 "nbformat_minor": 5
}
