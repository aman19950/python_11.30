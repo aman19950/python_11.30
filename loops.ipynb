{
 "cells": [
  {
   "cell_type": "markdown",
   "id": "d3a382a9",
   "metadata": {},
   "source": [
    "## for loops"
   ]
  },
  {
   "cell_type": "code",
   "execution_count": null,
   "id": "627b8790",
   "metadata": {},
   "outputs": [],
   "source": [
    "for i in range(1,10,2):\n",
    "    print(i,end=\" \")                     # range(start,stop,step)"
   ]
  },
  {
   "cell_type": "code",
   "execution_count": null,
   "id": "da4c5be2",
   "metadata": {},
   "outputs": [],
   "source": [
    "for i in range(1,10):\n",
    "    print(i,end=\" \")                     # range(start,stop,step=1)"
   ]
  },
  {
   "cell_type": "code",
   "execution_count": null,
   "id": "31a49547",
   "metadata": {},
   "outputs": [],
   "source": [
    "for i in range(10):\n",
    "    print(i,end=\" \")                     # range(start =0,stop,step=1)"
   ]
  },
  {
   "cell_type": "code",
   "execution_count": null,
   "id": "a9a8708d",
   "metadata": {},
   "outputs": [],
   "source": [
    "for i in range(2,101,2):\n",
    "    print(i,end=\" \")\n",
    "    "
   ]
  },
  {
   "cell_type": "code",
   "execution_count": null,
   "id": "8cbc6395",
   "metadata": {},
   "outputs": [],
   "source": [
    "for i in range(10,0,-1):\n",
    "    print(i,end=\" \")"
   ]
  },
  {
   "cell_type": "code",
   "execution_count": null,
   "id": "0870893e",
   "metadata": {},
   "outputs": [],
   "source": [
    "x = \"hello\"\n",
    "\n",
    "\n",
    "for i in x:\n",
    "    print(i)\n",
    "\n",
    "for i in range(len(x)):\n",
    "    print(i,\"---\",x[i])"
   ]
  },
  {
   "cell_type": "code",
   "execution_count": null,
   "id": "09b768ca",
   "metadata": {},
   "outputs": [],
   "source": [
    "# x = 456\n",
    "\n",
    "# for i in x:\n",
    "#     print(i)"
   ]
  },
  {
   "cell_type": "code",
   "execution_count": null,
   "id": "845eedf5",
   "metadata": {},
   "outputs": [],
   "source": [
    "# Q1. wap to print all factors of input number\n",
    "\n",
    "x = int(input(\"enter a number = \"))\n",
    "count = 0\n",
    "for i in range(1,x+1):\n",
    "    if(x % i == 0):\n",
    "        print(\"the factor of\",x,\"is =\",i)\n",
    "        count = count + 1\n",
    "        \n",
    "print(\"Total no. of factors = \",count)"
   ]
  },
  {
   "cell_type": "code",
   "execution_count": null,
   "id": "49fdf344",
   "metadata": {},
   "outputs": [],
   "source": [
    "# Q2 wap to print the factorial of a input number\n",
    "# ex- 5! ---> 5*4*3*2*1\n",
    "\n",
    "x = int(input(\"enter a number = \"))\n",
    "fact = 1\n",
    "\n",
    "for i in range(1,x+1):\n",
    "    fact = fact  * i\n",
    "    \n",
    "print(\"the factorial of \",x,\"is =\",fact)"
   ]
  },
  {
   "cell_type": "code",
   "execution_count": null,
   "id": "cc4c7b36",
   "metadata": {},
   "outputs": [],
   "source": [
    "\n",
    "for i in range(1,16):\n",
    "    if(i%3 == 0 and i%5 == 0):\n",
    "        print(\"fizzBuzz\")\n",
    "    elif(i%5 == 0):\n",
    "        print(\"Buzz\")\n",
    "    elif(i%3 == 0 ):\n",
    "        print(\"fizz\")\n",
    "    else:\n",
    "        print(i)"
   ]
  },
  {
   "cell_type": "code",
   "execution_count": null,
   "id": "8e1401ff",
   "metadata": {},
   "outputs": [],
   "source": [
    "# Q3 wap to swap the two numbers\n",
    "x = 5\n",
    "y = 6\n",
    "\n",
    "print(\"before swapping = \",x)\n",
    "print(\"before swapping = \",y)\n",
    "\n",
    "temp = x\n",
    "x = y\n",
    "y = temp\n",
    "\n",
    "print(\"after swapping = \",x)\n",
    "print(\"after swapping = \",y)"
   ]
  },
  {
   "cell_type": "code",
   "execution_count": null,
   "id": "9f9b98c1",
   "metadata": {},
   "outputs": [],
   "source": [
    "# Q3 wap to swap the two numbers\n",
    "x = 10\n",
    "y = 112\n",
    "\n",
    "print(\"before swapping = \",x)\n",
    "print(\"before swapping = \",y)\n",
    "\n",
    "x = x + y\n",
    "y = x - y\n",
    "x = x - y\n",
    "\n",
    "print(\"after swapping = \",x)\n",
    "print(\"after swapping = \",y)"
   ]
  },
  {
   "cell_type": "code",
   "execution_count": null,
   "id": "1a2fb884",
   "metadata": {},
   "outputs": [],
   "source": [
    "# Q3 wap to swap the two numbers\n",
    "x = int(input(\"enter a 1st number = \"))\n",
    "y = int(input(\"enter a 2nd number = \"))\n",
    "\n",
    "print(\"before swapping = \",x)\n",
    "print(\"before swapping = \",y)\n",
    "\n",
    "x,y = y,x\n",
    "\n",
    "print(\"after swapping = \",x)\n",
    "print(\"after swapping = \",y)"
   ]
  },
  {
   "cell_type": "markdown",
   "id": "e1077f71",
   "metadata": {},
   "source": [
    "## While"
   ]
  },
  {
   "cell_type": "code",
   "execution_count": null,
   "id": "b01bd950",
   "metadata": {},
   "outputs": [],
   "source": [
    "i = 0\n",
    "while(i<=5):\n",
    "    print(i)\n",
    "    i = i + 1"
   ]
  },
  {
   "cell_type": "code",
   "execution_count": null,
   "id": "dd1a00a8",
   "metadata": {},
   "outputs": [],
   "source": [
    "i = 0\n",
    "while(i<=5):\n",
    "    i = i + 1\n",
    "    print(i)"
   ]
  },
  {
   "cell_type": "code",
   "execution_count": null,
   "id": "b6d1058a",
   "metadata": {},
   "outputs": [],
   "source": [
    "for i in range(1,6):\n",
    "    print(i)\n",
    "else:\n",
    "    print(\"bye\")"
   ]
  },
  {
   "cell_type": "code",
   "execution_count": null,
   "id": "b923b506",
   "metadata": {},
   "outputs": [],
   "source": [
    "i = 0\n",
    "while(i<=5):\n",
    "    print(i)\n",
    "    i = i + 1\n",
    "else:\n",
    "    print(\"bye\")"
   ]
  },
  {
   "cell_type": "code",
   "execution_count": null,
   "id": "e98f6bfa",
   "metadata": {},
   "outputs": [],
   "source": [
    "for i in range(1,6):\n",
    "    print(i)\n",
    " \n",
    "print(i)"
   ]
  },
  {
   "cell_type": "code",
   "execution_count": null,
   "id": "9452c9da",
   "metadata": {},
   "outputs": [],
   "source": [
    "i = 0\n",
    "while(i <= 5):\n",
    "    print(i)\n",
    "    i = i + 1\n",
    " \n",
    "print(i)"
   ]
  },
  {
   "cell_type": "code",
   "execution_count": null,
   "id": "fa05dc12",
   "metadata": {},
   "outputs": [],
   "source": [
    "for i in range(1,1):\n",
    "    print(i)"
   ]
  },
  {
   "cell_type": "markdown",
   "id": "23a0c467",
   "metadata": {},
   "source": [
    "### Break,continue and pass"
   ]
  },
  {
   "cell_type": "markdown",
   "id": "8c501791",
   "metadata": {},
   "source": [
    "## Break"
   ]
  },
  {
   "cell_type": "code",
   "execution_count": null,
   "id": "8bb0dad1",
   "metadata": {},
   "outputs": [],
   "source": [
    "for i in range(1,5):\n",
    "    if(i==3):\n",
    "        break\n",
    "    print(i)"
   ]
  },
  {
   "cell_type": "markdown",
   "id": "dc07bdf3",
   "metadata": {},
   "source": [
    "## continue"
   ]
  },
  {
   "cell_type": "code",
   "execution_count": null,
   "id": "567d00ef",
   "metadata": {},
   "outputs": [],
   "source": [
    "for i in range(1,5):\n",
    "    if(i==3):\n",
    "        continue\n",
    "    print(i)"
   ]
  },
  {
   "cell_type": "code",
   "execution_count": null,
   "id": "90f3fa6d",
   "metadata": {},
   "outputs": [],
   "source": [
    "for i in range(1,10):\n",
    "    pass\n",
    "\n",
    "    \n",
    "print(\"hello\")"
   ]
  },
  {
   "cell_type": "code",
   "execution_count": null,
   "id": "63677248",
   "metadata": {},
   "outputs": [],
   "source": [
    "i = 0\n",
    "while(i<=10):\n",
    "    if (i == 5):\n",
    "        break\n",
    "    print(i)\n",
    "    i = i + 1\n",
    "else:\n",
    "    print(\"bye.....\")"
   ]
  },
  {
   "cell_type": "code",
   "execution_count": null,
   "id": "76cd4732",
   "metadata": {},
   "outputs": [],
   "source": [
    "i = 0\n",
    "while(i<=10):\n",
    "    if (i == 5):\n",
    "        continue\n",
    "    print(i)\n",
    "    i = i + 1\n",
    "else:\n",
    "    print(\"bye.....\")"
   ]
  },
  {
   "cell_type": "code",
   "execution_count": null,
   "id": "4f997800",
   "metadata": {},
   "outputs": [],
   "source": [
    "x = \"hello world\"\n",
    "for i in x:\n",
    "    i.upper()\n",
    "print(x)"
   ]
  },
  {
   "cell_type": "code",
   "execution_count": null,
   "id": "b989f976",
   "metadata": {},
   "outputs": [],
   "source": [
    "x = \"hello world\"\n",
    "for i in x:\n",
    "#     print(i.title(),end=  \"\")\n",
    "    i = i.capitalize()\n",
    "    print(i,end=\"\")\n"
   ]
  },
  {
   "cell_type": "code",
   "execution_count": null,
   "id": "dc3efaa4",
   "metadata": {},
   "outputs": [],
   "source": [
    "# Q3. wap to print all the prime number between 1-50\n",
    "\n",
    "for k in range(1,50):\n",
    "    if k > 1:\n",
    "        for i in range(2,k):\n",
    "            if (k%i == 0):\n",
    "                break\n",
    "        else:\n",
    "            print(k,end =\" \")"
   ]
  },
  {
   "cell_type": "code",
   "execution_count": null,
   "id": "18edb8f7",
   "metadata": {},
   "outputs": [],
   "source": [
    "# Q4. wap to reverse a number ex-5742 ---> 2475\n",
    "\n",
    "x = int(input(\"enter a number = \"))\n",
    "y = str(x)\n",
    "y = y[::-1]\n",
    "x = int(y)\n",
    "print(x)"
   ]
  },
  {
   "cell_type": "code",
   "execution_count": null,
   "id": "45bb96a4",
   "metadata": {},
   "outputs": [],
   "source": [
    "x = int(input(\"enter a number = \"))\n",
    "\n",
    "rev = 0\n",
    "\n",
    "while(x >= 1):\n",
    "    rem = x%10\n",
    "    rev = (rev *10) + rem\n",
    "    x = x //10\n",
    "    \n",
    "print(\"reversed number =\",rev)"
   ]
  },
  {
   "cell_type": "code",
   "execution_count": null,
   "id": "c7aa75c3",
   "metadata": {},
   "outputs": [],
   "source": [
    "#homework\n",
    "# Q5. wap to check a number is palindrome or not\n",
    "# Q6. wap to check a string is palindrome or not\n",
    "# Q7. wap to sum of all digits of a number. ex-> 1234 -->10"
   ]
  },
  {
   "cell_type": "code",
   "execution_count": null,
   "id": "e8a8e8fa",
   "metadata": {},
   "outputs": [],
   "source": [
    "#Q8. wap to print the fibbonacci series\n",
    "# 0 1 1 2 3 5 8 13 .....\n",
    "\n",
    "x = 0 \n",
    "y = 1\n",
    "\n",
    "while(x<= 10):\n",
    "    print(x)\n",
    "    x,y = y,x+y\n",
    "    \n"
   ]
  },
  {
   "cell_type": "markdown",
   "id": "1b23630e",
   "metadata": {},
   "source": [
    "## Nested Loop"
   ]
  },
  {
   "cell_type": "code",
   "execution_count": null,
   "id": "f1fbbd85",
   "metadata": {},
   "outputs": [],
   "source": [
    "for i in range(1,6):           #outer loop\n",
    "    for j in range(1,i+1):     #inner loop\n",
    "        print(\"*\",end=\" \")\n",
    "    print()"
   ]
  },
  {
   "cell_type": "code",
   "execution_count": null,
   "id": "434f83a6",
   "metadata": {},
   "outputs": [],
   "source": [
    "print(\"hello \" *5)"
   ]
  },
  {
   "cell_type": "code",
   "execution_count": null,
   "id": "0972bcce",
   "metadata": {},
   "outputs": [],
   "source": [
    "for i in range(1,6):\n",
    "    print(\"* \" *i)"
   ]
  },
  {
   "cell_type": "code",
   "execution_count": null,
   "id": "d0c529e1",
   "metadata": {},
   "outputs": [],
   "source": [
    "i = 1\n",
    "while(i<=5):\n",
    "    print(\"* \" *i)\n",
    "    i = i + 1"
   ]
  },
  {
   "cell_type": "code",
   "execution_count": null,
   "id": "b6972112",
   "metadata": {},
   "outputs": [],
   "source": [
    "i = 5\n",
    "while(i>=1):\n",
    "    print(\"* \"*i)\n",
    "    i = i - 1"
   ]
  },
  {
   "cell_type": "code",
   "execution_count": null,
   "id": "e42d081d",
   "metadata": {},
   "outputs": [],
   "source": [
    "i = 1\n",
    "while(i<=5):\n",
    "    print(\" \"*(5-i)+\"*\" *i)\n",
    "    i = i + 1"
   ]
  },
  {
   "cell_type": "code",
   "execution_count": 4,
   "id": "59054e8a",
   "metadata": {},
   "outputs": [
    {
     "name": "stdout",
     "output_type": "stream",
     "text": [
      "    * \n",
      "   * * \n",
      "  * * * \n",
      " * * * * \n",
      "* * * * * \n"
     ]
    }
   ],
   "source": [
    "i = 1\n",
    "while(i<=5):\n",
    "    print(\" \"*(5-i)+\"* \" *i)\n",
    "    i = i + 1"
   ]
  },
  {
   "cell_type": "code",
   "execution_count": 5,
   "id": "ab3801c7",
   "metadata": {},
   "outputs": [
    {
     "name": "stdout",
     "output_type": "stream",
     "text": [
      "* * * * * \n",
      " * * * * \n",
      "  * * * \n",
      "   * * \n",
      "    * \n"
     ]
    }
   ],
   "source": [
    "i = 5 \n",
    "while(i>=1):\n",
    "    print(\" \"*(5-i)+\"* \" *i)\n",
    "    i = i - 1"
   ]
  },
  {
   "cell_type": "code",
   "execution_count": null,
   "id": "2231aed9",
   "metadata": {},
   "outputs": [],
   "source": [
    "for i in range(1,6):\n",
    "    for j in range(1,i+1):\n",
    "        print(j,end=\" \")\n",
    "    print()"
   ]
  },
  {
   "cell_type": "code",
   "execution_count": null,
   "id": "4d124d3d",
   "metadata": {},
   "outputs": [],
   "source": [
    "for i in range(1,6):\n",
    "    for j in range(1,i+1):\n",
    "        print(i,end=\" \")\n",
    "    print()"
   ]
  },
  {
   "cell_type": "code",
   "execution_count": null,
   "id": "b92ec220",
   "metadata": {},
   "outputs": [],
   "source": [
    "for i in range(1,6):\n",
    "    for j in range(5,i-1,-1):\n",
    "        print(i,end=\" \")\n",
    "    print()"
   ]
  },
  {
   "cell_type": "code",
   "execution_count": null,
   "id": "95012f35",
   "metadata": {},
   "outputs": [],
   "source": [
    "for i in range(1,6):\n",
    "    for j in range(5,i-1,-1):\n",
    "        print(j,end=\" \")\n",
    "    print()"
   ]
  },
  {
   "cell_type": "code",
   "execution_count": null,
   "id": "17e1cbf8",
   "metadata": {},
   "outputs": [],
   "source": [
    "for i in range(5,0,-1):\n",
    "    for j in range(1,i+1):\n",
    "        print(j,end=\" \")\n",
    "    print()"
   ]
  },
  {
   "cell_type": "code",
   "execution_count": 3,
   "id": "0e417b76",
   "metadata": {},
   "outputs": [
    {
     "name": "stdout",
     "output_type": "stream",
     "text": [
      " p\n",
      " p y\n",
      " p y t\n",
      " p y t h\n",
      " p y t h o\n",
      " p y t h o n\n"
     ]
    }
   ],
   "source": [
    "x = \"python\"\n",
    "y = \"\"\n",
    "\n",
    "for i in x:\n",
    "    y = y +\" \"+ i\n",
    "    print(y)"
   ]
  },
  {
   "cell_type": "code",
   "execution_count": null,
   "id": "f24138d9",
   "metadata": {},
   "outputs": [],
   "source": [
    "x = \"hello\"\n",
    "\n",
    "for i in range(len(x)):\n",
    "    print(x)\n",
    "    x = \"a\""
   ]
  },
  {
   "cell_type": "code",
   "execution_count": null,
   "id": "856e44d1",
   "metadata": {},
   "outputs": [],
   "source": [
    "True = False\n",
    "while True:\n",
    "    print(\"true\")"
   ]
  },
  {
   "cell_type": "code",
   "execution_count": null,
   "id": "f691e021",
   "metadata": {},
   "outputs": [],
   "source": [
    "x = \"hello\"\n",
    "i = 'e'\n",
    "while i in x:\n",
    "    print(i,end=\" \")"
   ]
  },
  {
   "cell_type": "code",
   "execution_count": null,
   "id": "02a23d9d",
   "metadata": {},
   "outputs": [],
   "source": [
    "x = \"hello\"\n",
    "i = 'e'\n",
    "while i in x[:-1]:\n",
    "    print(i,end=\" \")"
   ]
  },
  {
   "cell_type": "code",
   "execution_count": 2,
   "id": "975f68cb",
   "metadata": {},
   "outputs": [
    {
     "name": "stdout",
     "output_type": "stream",
     "text": [
      "e e e e "
     ]
    }
   ],
   "source": [
    "x = \"hello\"\n",
    "i = 'e'\n",
    "while i in x:\n",
    "    x = x[:-1]\n",
    "    print(i,end=\" \")\n",
    "# x = \"hello\"\n",
    "# print(x[:-1])"
   ]
  },
  {
   "cell_type": "code",
   "execution_count": null,
   "id": "70ed10e8",
   "metadata": {},
   "outputs": [],
   "source": []
  }
 ],
 "metadata": {
  "kernelspec": {
   "display_name": "Python 3 (ipykernel)",
   "language": "python",
   "name": "python3"
  },
  "language_info": {
   "codemirror_mode": {
    "name": "ipython",
    "version": 3
   },
   "file_extension": ".py",
   "mimetype": "text/x-python",
   "name": "python",
   "nbconvert_exporter": "python",
   "pygments_lexer": "ipython3",
   "version": "3.10.9"
  }
 },
 "nbformat": 4,
 "nbformat_minor": 5
}
