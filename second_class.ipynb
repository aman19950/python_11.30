{
 "cells": [
  {
   "cell_type": "code",
   "execution_count": 2,
   "metadata": {},
   "outputs": [
    {
     "name": "stdout",
     "output_type": "stream",
     "text": [
      "17\n",
      "3\n"
     ]
    }
   ],
   "source": [
    "x = \"hello how are you\"\n",
    "\n",
    "print(len(x))\n",
    "print(x.count('o'))"
   ]
  },
  {
   "cell_type": "code",
   "execution_count": 3,
   "metadata": {},
   "outputs": [
    {
     "name": "stdout",
     "output_type": "stream",
     "text": [
      "HELLO HOW ARE YOU\n",
      "hello how are you\n",
      "Hello How Are You\n",
      "Hello how are you\n"
     ]
    }
   ],
   "source": [
    "x = \"hello how are you\"\n",
    "\n",
    "print(x.upper())\n",
    "print(x.lower())\n",
    "print(x.title())\n",
    "print(x.capitalize())"
   ]
  },
  {
   "cell_type": "code",
   "execution_count": 5,
   "metadata": {},
   "outputs": [
    {
     "name": "stdout",
     "output_type": "stream",
     "text": [
      "False\n",
      "True\n",
      "True\n",
      "True\n",
      "False\n"
     ]
    }
   ],
   "source": [
    "x = \"hellohowareyou\"\n",
    "\n",
    "print(x.isupper())     # False\n",
    "print(x.islower())     # True\n",
    "print(x.isalpha())     # True\n",
    "print(x.isalnum())     # True\n",
    "print(x.isdigit())     # False"
   ]
  },
  {
   "cell_type": "code",
   "execution_count": 6,
   "metadata": {},
   "outputs": [
    {
     "name": "stdout",
     "output_type": "stream",
     "text": [
      "h\n",
      "l\n"
     ]
    }
   ],
   "source": [
    "#indexing\n",
    "x = \"hello\"\n",
    "\n",
    "print(x[0])\n",
    "print(x[-3])"
   ]
  },
  {
   "cell_type": "code",
   "execution_count": 9,
   "metadata": {},
   "outputs": [
    {
     "name": "stdout",
     "output_type": "stream",
     "text": [
      "hell\n"
     ]
    }
   ],
   "source": [
    "#slicing\n",
    "x = \"hello\"\n",
    "\n",
    "print(x[0 : 4])              # slicing[start_index : stop_index]"
   ]
  },
  {
   "cell_type": "code",
   "execution_count": 10,
   "metadata": {},
   "outputs": [
    {
     "name": "stdout",
     "output_type": "stream",
     "text": [
      "llo ho\n"
     ]
    }
   ],
   "source": [
    "x = \"hello how are you\"\n",
    "\n",
    "print(x[2:8])       # llo how\n"
   ]
  },
  {
   "cell_type": "code",
   "execution_count": 12,
   "metadata": {},
   "outputs": [
    {
     "name": "stdout",
     "output_type": "stream",
     "text": [
      "hlohw\n"
     ]
    }
   ],
   "source": [
    "x = \"hello how are you\"\n",
    "print(x[0 : 10 : 2])             # slicing[start_index : stop_index : step/skip]"
   ]
  },
  {
   "cell_type": "code",
   "execution_count": 14,
   "metadata": {},
   "outputs": [
    {
     "name": "stdout",
     "output_type": "stream",
     "text": [
      "you\n"
     ]
    }
   ],
   "source": [
    "print(x[-3 : ])"
   ]
  },
  {
   "cell_type": "code",
   "execution_count": 15,
   "metadata": {},
   "outputs": [
    {
     "name": "stdout",
     "output_type": "stream",
     "text": [
      "hello ho\n"
     ]
    }
   ],
   "source": [
    "print(x[ : 8])"
   ]
  },
  {
   "cell_type": "code",
   "execution_count": 1,
   "metadata": {},
   "outputs": [
    {
     "name": "stdout",
     "output_type": "stream",
     "text": [
      "olleh\n"
     ]
    }
   ],
   "source": [
    "x = \"hello\"\n",
    "\n",
    "print(x[ : : -1])"
   ]
  },
  {
   "cell_type": "code",
   "execution_count": 2,
   "metadata": {},
   "outputs": [
    {
     "name": "stdout",
     "output_type": "stream",
     "text": [
      "uoy era woh olleh\n"
     ]
    }
   ],
   "source": [
    "x = \"hello how are you\"\n",
    "print(x[ : : -1])"
   ]
  },
  {
   "cell_type": "code",
   "execution_count": 11,
   "metadata": {},
   "outputs": [
    {
     "name": "stdout",
     "output_type": "stream",
     "text": [
      "0\n",
      "-1\n"
     ]
    }
   ],
   "source": [
    "x = \"hello how are you\"\n",
    "# print(x.index('r'))\n",
    "# print(x.index('y'))\n",
    "# print(x.index('h'))\n",
    "# print(x.index('h',1))\n",
    "# print(x.rindex('h'))\n",
    "# print(x.index('s'))\n",
    "print(x.find('h'))\n",
    "print(x.find('s'))"
   ]
  },
  {
   "cell_type": "code",
   "execution_count": 15,
   "metadata": {},
   "outputs": [
    {
     "name": "stdout",
     "output_type": "stream",
     "text": [
      "hiello hiow ahe you\n"
     ]
    }
   ],
   "source": [
    "x = \"hello how ahe you\"\n",
    "# print(x.replace(\"hello\",\"hi\"))\n",
    "print(x.replace(\"h\",\"hi\",2))\n"
   ]
  },
  {
   "cell_type": "code",
   "execution_count": 16,
   "metadata": {},
   "outputs": [
    {
     "name": "stdout",
     "output_type": "stream",
     "text": [
      "True\n",
      "True\n"
     ]
    }
   ],
   "source": [
    "x = \"hello how ahe you\"\n",
    "print(x.startswith(\"hello\"))\n",
    "print(x.endswith(\"you\"))"
   ]
  },
  {
   "cell_type": "code",
   "execution_count": 18,
   "metadata": {},
   "outputs": [
    {
     "name": "stdout",
     "output_type": "stream",
     "text": [
      "enter a 1st number = 10\n",
      "enter a 2nd number = 20\n",
      "30\n"
     ]
    }
   ],
   "source": [
    "x = int(input(\"enter a 1st number = \"))\n",
    "y = int(input(\"enter a 2nd number = \"))\n",
    "\n",
    "z = x+y\n",
    "print(z)"
   ]
  },
  {
   "cell_type": "code",
   "execution_count": null,
   "metadata": {},
   "outputs": [],
   "source": []
  }
 ],
 "metadata": {
  "kernelspec": {
   "display_name": "Python 3 (ipykernel)",
   "language": "python",
   "name": "python3"
  },
  "language_info": {
   "codemirror_mode": {
    "name": "ipython",
    "version": 3
   },
   "file_extension": ".py",
   "mimetype": "text/x-python",
   "name": "python",
   "nbconvert_exporter": "python",
   "pygments_lexer": "ipython3",
   "version": "3.10.9"
  }
 },
 "nbformat": 4,
 "nbformat_minor": 4
}
