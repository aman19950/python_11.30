{
 "cells": [
  {
   "cell_type": "markdown",
   "id": "0f8bef87",
   "metadata": {},
   "source": [
    "## Dict\n",
    "\n",
    "- dict is a collection of key  value pair\n",
    "- dict is ordered\n",
    "- dict is unindexed\n",
    "- dict is mutable"
   ]
  },
  {
   "cell_type": "code",
   "execution_count": 4,
   "id": "efb23308",
   "metadata": {},
   "outputs": [
    {
     "name": "stdout",
     "output_type": "stream",
     "text": [
      "{'a': 1, 'b': 2, 'c': 3}\n",
      "2\n",
      "{'a': 1, 'b': 2000, 'c': 3}\n"
     ]
    }
   ],
   "source": [
    "x = {'a' : 1,'b' : 2,'c' : 3,}\n",
    "print(x)\n",
    "\n",
    "print(x['b'])\n",
    "\n",
    "x['b'] = 2000\n",
    "print(x)"
   ]
  },
  {
   "cell_type": "code",
   "execution_count": 10,
   "id": "99ed8780",
   "metadata": {},
   "outputs": [
    {
     "name": "stdout",
     "output_type": "stream",
     "text": [
      "key not found\n"
     ]
    }
   ],
   "source": [
    "x = {\n",
    "    'a' : 1,\n",
    "    'b' : 2,\n",
    "    'c' : 3\n",
    "}\n",
    "# print(x['c'])\n",
    "# print(x['d'])\n",
    "# print(x.get('c'))\n",
    "print(x.get('d','key not found'))"
   ]
  },
  {
   "cell_type": "code",
   "execution_count": 11,
   "id": "b1299184",
   "metadata": {},
   "outputs": [
    {
     "name": "stdout",
     "output_type": "stream",
     "text": [
      "{'a': 1, 'b': 2, 'c': 3, 5: 78, 7.5: 100}\n"
     ]
    }
   ],
   "source": [
    "x = {\n",
    "    'a' : 1,\n",
    "    'b' : 2,\n",
    "    'c' : 3,\n",
    "    5   : 78,\n",
    "    7.5 : 100\n",
    "}\n",
    "\n",
    "print(x)"
   ]
  },
  {
   "cell_type": "code",
   "execution_count": 36,
   "id": "f0473efd",
   "metadata": {},
   "outputs": [
    {
     "name": "stdout",
     "output_type": "stream",
     "text": [
      "{'a': 1, 'b': 2, 'c': 3, 'd': 4, 'f': 5}\n"
     ]
    }
   ],
   "source": [
    "x = {\n",
    "    'a' : 1,\n",
    "    'b' : 2,\n",
    "    'c' : 3,\n",
    "}\n",
    "\n",
    "# x['b'] =  1000\n",
    "# x['d'] = 1000\n",
    "x.update({'d':4,'f':5})\n",
    "\n",
    "print(x)"
   ]
  },
  {
   "cell_type": "code",
   "execution_count": 15,
   "id": "e27a691f",
   "metadata": {},
   "outputs": [
    {
     "name": "stdout",
     "output_type": "stream",
     "text": [
      "{'name': ['sonu', 'monu', 'sohan', 'rohan', 'john'], 'marks': (234, 45, 2, 23), 'age': {2, 35, 45, 23}}\n"
     ]
    }
   ],
   "source": [
    "x = {\n",
    "    'name' : ['sonu','monu','sohan','rohan'],\n",
    "    'marks' : (234,45,2,23),\n",
    "    'age' :{35,45,23,2},\n",
    "}\n",
    "\n",
    "# print(x)\n",
    "x['name'].append('john')\n",
    "print(x)"
   ]
  },
  {
   "cell_type": "code",
   "execution_count": 16,
   "id": "5e84ea98",
   "metadata": {},
   "outputs": [
    {
     "name": "stdout",
     "output_type": "stream",
     "text": [
      "dict_keys(['a', 'b', 'c'])\n",
      "dict_values([11, 22, 33])\n",
      "dict_items([('a', 11), ('b', 22), ('c', 33)])\n"
     ]
    }
   ],
   "source": [
    "\n",
    "x = {\n",
    "    'a': 11,\n",
    "    'b': 22,\n",
    "    'c': 33\n",
    "}\n",
    "\n",
    "print(x.keys())\n",
    "print(x.values())\n",
    "print(x.items())"
   ]
  },
  {
   "cell_type": "code",
   "execution_count": 22,
   "id": "e3bb85be",
   "metadata": {},
   "outputs": [
    {
     "name": "stdout",
     "output_type": "stream",
     "text": [
      "not present\n",
      "present\n",
      "present\n"
     ]
    }
   ],
   "source": [
    "x = {\n",
    "    'a' : 11,\n",
    "    'b' : 22,\n",
    "    'c' : 33\n",
    "    \n",
    "}\n",
    "if 22 in x:\n",
    "    print(\"present\")\n",
    "else:\n",
    "    print(\"not present\")\n",
    "\n",
    "if 22 in x.values():\n",
    "    print(\"present\")\n",
    "else:\n",
    "    print(\"not present\")\n",
    "    \n",
    "if ('b',22) in x.items():\n",
    "    print(\"present\")\n",
    "else:\n",
    "    print(\"not present\")"
   ]
  },
  {
   "cell_type": "code",
   "execution_count": 27,
   "id": "45068376",
   "metadata": {},
   "outputs": [
    {
     "name": "stdout",
     "output_type": "stream",
     "text": [
      "a --- 11\n",
      "b --- 22\n",
      "c --- 33\n",
      "11 ---\n",
      "22 ---\n",
      "33 ---\n",
      "a --- 11\n",
      "b --- 22\n",
      "c --- 33\n"
     ]
    }
   ],
   "source": [
    "x = {\n",
    "    'a' : 11,\n",
    "    'b' : 22,\n",
    "    'c' : 33\n",
    "}\n",
    "\n",
    "for i in x:\n",
    "    print(i,\"---\",x[i])\n",
    "    \n",
    "\n",
    "for i in x.values():\n",
    "    print(i,\"---\")\n",
    "    \n",
    "\n",
    "for i,j in x.items():\n",
    "    print(i,\"---\",j)"
   ]
  },
  {
   "cell_type": "code",
   "execution_count": 32,
   "id": "d830f5e0",
   "metadata": {},
   "outputs": [
    {
     "name": "stdout",
     "output_type": "stream",
     "text": [
      "{}\n"
     ]
    }
   ],
   "source": [
    "x = {\n",
    "    'a':11,\n",
    "    'b':22,\n",
    "    'c':33\n",
    "}\n",
    "\n",
    "# del x['b']\n",
    "# z = x.pop('b')\n",
    "# c = x.popitem()\n",
    "x.clear()\n",
    "\n",
    "print(x)\n",
    "# print(z)\n",
    "# print(c)"
   ]
  },
  {
   "cell_type": "code",
   "execution_count": 34,
   "id": "e72fcd5d",
   "metadata": {},
   "outputs": [
    {
     "name": "stdout",
     "output_type": "stream",
     "text": [
      "{'a': 0, 'b': 0, 'c': 0}\n"
     ]
    }
   ],
   "source": [
    "# Q1. \n",
    "x = ['a','b','c']\n",
    "y = 0\n",
    "\n",
    "# output:-\n",
    "# z = {'a':0,'b':0,'c':0}\n",
    "z = {}\n",
    "\n",
    "for i in x:\n",
    "    z[i] = y\n",
    "    \n",
    "print(z)"
   ]
  },
  {
   "cell_type": "code",
   "execution_count": 37,
   "id": "8f3ac296",
   "metadata": {},
   "outputs": [
    {
     "name": "stdout",
     "output_type": "stream",
     "text": [
      "{'a': 1, 'b': 2, 'c': 3}\n"
     ]
    }
   ],
   "source": [
    "# Q1. \n",
    "x = ['a','b','c']\n",
    "y = [1,2,3]\n",
    "\n",
    "# output:-\n",
    "# z = {'a':1,'b':2,'c':3}\n",
    "z = {}\n",
    "\n",
    "for i in range(len(x)):\n",
    "    z.update({x[i]:y[i]})\n",
    "#     z[x[i]] = y[i]\n",
    "\n",
    "    \n",
    "print(z)"
   ]
  },
  {
   "cell_type": "code",
   "execution_count": 38,
   "id": "89bb7d5c",
   "metadata": {},
   "outputs": [
    {
     "name": "stdout",
     "output_type": "stream",
     "text": [
      "{0: 1, 1: 1, 2: 1}\n"
     ]
    }
   ],
   "source": [
    "z = {}\n",
    "for i in range(3):\n",
    "    for j in range(2):\n",
    "        z[i] = j\n",
    "        \n",
    "print(z)"
   ]
  },
  {
   "cell_type": "code",
   "execution_count": 39,
   "id": "c0754d2e",
   "metadata": {},
   "outputs": [
    {
     "name": "stdout",
     "output_type": "stream",
     "text": [
      "4\n"
     ]
    }
   ],
   "source": [
    "x = {}\n",
    "x[1] = 1\n",
    "x[2] = 2\n",
    "x[1] = x[1]+1\n",
    "\n",
    "s = 0\n",
    "for i in x:\n",
    "    s = s + x[i]\n",
    "    \n",
    "print(s)"
   ]
  },
  {
   "cell_type": "code",
   "execution_count": 1,
   "id": "2cc06989",
   "metadata": {},
   "outputs": [
    {
     "name": "stdout",
     "output_type": "stream",
     "text": [
      "['h', 'e', 'l', 'l', 'o']\n",
      "('h', 'e', 'l', 'l', 'o')\n",
      "{'e', 'l', 'o', 'h'}\n"
     ]
    }
   ],
   "source": [
    "x = list('hello')\n",
    "y = tuple('hello')\n",
    "z = set('hello')\n",
    "print(x)\n",
    "print(y)\n",
    "print(z)"
   ]
  },
  {
   "cell_type": "code",
   "execution_count": 4,
   "id": "7b77e9d4",
   "metadata": {},
   "outputs": [
    {
     "name": "stdout",
     "output_type": "stream",
     "text": [
      "[1, 2, 3, 100]\n",
      "((4, 5, 6), 200)\n"
     ]
    }
   ],
   "source": [
    "x = {\n",
    "    1:[1,2,3],\n",
    "    2:(4,5,6)\n",
    "}\n",
    "x[1].append(100)\n",
    "print(x[1])\n",
    "y = [x[2]]\n",
    "y.append(200)\n",
    "x[2] = tuple(y)\n",
    "print(x[2])"
   ]
  },
  {
   "cell_type": "code",
   "execution_count": 5,
   "id": "7367e48b",
   "metadata": {},
   "outputs": [
    {
     "name": "stdout",
     "output_type": "stream",
     "text": [
      "4\n"
     ]
    }
   ],
   "source": [
    "x = {}\n",
    "x[1] = 1\n",
    "x[2] = 2\n",
    "x[1.0] = x[1]+1\n",
    "\n",
    "s = 0\n",
    "for i in x:\n",
    "    s = s + x[i]\n",
    "    \n",
    "print(s)"
   ]
  },
  {
   "cell_type": "code",
   "execution_count": 8,
   "id": "fb749692",
   "metadata": {},
   "outputs": [
    {
     "name": "stdout",
     "output_type": "stream",
     "text": [
      "6\n"
     ]
    }
   ],
   "source": [
    "x = {\n",
    "    1:2,\n",
    "    3:4,\n",
    "    4:5}\n",
    "# print(x.get(5,6))\n",
    "print(x.get(5,6))"
   ]
  },
  {
   "cell_type": "code",
   "execution_count": 9,
   "id": "c0a91150",
   "metadata": {},
   "outputs": [
    {
     "data": {
      "text/plain": [
       "{1: 1, 2: 4, 3: 9, 4: 16, 5: 25}"
      ]
     },
     "execution_count": 9,
     "metadata": {},
     "output_type": "execute_result"
    }
   ],
   "source": [
    "x = {i:i*i for i in range(1,6)}\n",
    "x"
   ]
  },
  {
   "cell_type": "code",
   "execution_count": 10,
   "id": "833f3343",
   "metadata": {},
   "outputs": [
    {
     "name": "stdout",
     "output_type": "stream",
     "text": [
      "{1: 'hello', 2: 'bye'}\n"
     ]
    }
   ],
   "source": [
    "x = {'hello':1,'bye':2}\n",
    "\n",
    "z = {j:i for i,j in x.items()}\n",
    "print(z)"
   ]
  },
  {
   "cell_type": "code",
   "execution_count": 11,
   "id": "057d17a5",
   "metadata": {},
   "outputs": [
    {
     "name": "stdout",
     "output_type": "stream",
     "text": [
      "[1, 2, 3, 4, 5, 6]\n"
     ]
    },
    {
     "ename": "TypeError",
     "evalue": "unsupported operand type(s) for +: 'set' and 'set'",
     "output_type": "error",
     "traceback": [
      "\u001b[1;31m---------------------------------------------------------------------------\u001b[0m",
      "\u001b[1;31mTypeError\u001b[0m                                 Traceback (most recent call last)",
      "Cell \u001b[1;32mIn[11], line 7\u001b[0m\n\u001b[0;32m      4\u001b[0m x \u001b[38;5;241m=\u001b[39m [\u001b[38;5;241m1\u001b[39m,\u001b[38;5;241m2\u001b[39m,\u001b[38;5;241m3\u001b[39m] \u001b[38;5;241m+\u001b[39m [\u001b[38;5;241m4\u001b[39m,\u001b[38;5;241m5\u001b[39m,\u001b[38;5;241m6\u001b[39m]\n\u001b[0;32m      5\u001b[0m \u001b[38;5;28mprint\u001b[39m(x)\n\u001b[1;32m----> 7\u001b[0m y \u001b[38;5;241m=\u001b[39m \u001b[43m{\u001b[49m\u001b[38;5;241;43m1\u001b[39;49m\u001b[43m,\u001b[49m\u001b[38;5;241;43m2\u001b[39;49m\u001b[43m,\u001b[49m\u001b[38;5;241;43m3\u001b[39;49m\u001b[43m}\u001b[49m\u001b[43m \u001b[49m\u001b[38;5;241;43m+\u001b[39;49m\u001b[43m \u001b[49m\u001b[43m{\u001b[49m\u001b[38;5;241;43m4\u001b[39;49m\u001b[43m,\u001b[49m\u001b[38;5;241;43m5\u001b[39;49m\u001b[43m,\u001b[49m\u001b[38;5;241;43m6\u001b[39;49m\u001b[43m}\u001b[49m\n\u001b[0;32m      8\u001b[0m \u001b[38;5;28mprint\u001b[39m(y)\n",
      "\u001b[1;31mTypeError\u001b[0m: unsupported operand type(s) for +: 'set' and 'set'"
     ]
    }
   ],
   "source": [
    "# x = {'hello','hey','arun','varun'}\n",
    "# print(x['arun'])\n",
    "\n",
    "x = [1,2,3] + [4,5,6]\n",
    "print(x)\n",
    "\n",
    "# y = {1,2,3} + {4,5,6}\n",
    "# print(y)"
   ]
  },
  {
   "cell_type": "code",
   "execution_count": 12,
   "id": "2836d8a3",
   "metadata": {},
   "outputs": [
    {
     "name": "stdout",
     "output_type": "stream",
     "text": [
      "{'a': 100, 'b': 2, 'c': 3}\n"
     ]
    }
   ],
   "source": [
    "x = {\n",
    "    'a' : 1,\n",
    "    'b' : 2,\n",
    "    'c' : 3,\n",
    "    'a' : 100\n",
    "}\n",
    "\n",
    "print(x)"
   ]
  },
  {
   "cell_type": "code",
   "execution_count": 14,
   "id": "ef42207b",
   "metadata": {},
   "outputs": [
    {
     "name": "stdout",
     "output_type": "stream",
     "text": [
      "34\n"
     ]
    }
   ],
   "source": [
    "x = {\n",
    "    'a' :{\n",
    "        'name':'sonu',\n",
    "        'age':23\n",
    "    },\n",
    "    'b':{\n",
    "        'name':'monu',\n",
    "        'age':34\n",
    "    }\n",
    "}\n",
    "\n",
    "print(x['b']['age'])"
   ]
  },
  {
   "cell_type": "code",
   "execution_count": 15,
   "id": "d5999af1",
   "metadata": {},
   "outputs": [
    {
     "name": "stdout",
     "output_type": "stream",
     "text": [
      "{'h': [0], 'e': [1], 'l': [2, 3, 9], 'o': [4, 7], ' ': [5], 'w': [6], 'r': [8], 'd': [10]}\n"
     ]
    }
   ],
   "source": [
    "# Q1n wap to print the each index of string\n",
    "x = \"hello world\"\n",
    "\n",
    "z = {}\n",
    "\n",
    "for i in range(len(x)):\n",
    "    if x[i] not in z:\n",
    "        z[x[i]] = [i]\n",
    "    else:\n",
    "        z[x[i]].append(i)\n",
    "print(z)"
   ]
  },
  {
   "cell_type": "code",
   "execution_count": 1,
   "id": "12d3df70",
   "metadata": {},
   "outputs": [
    {
     "name": "stdout",
     "output_type": "stream",
     "text": [
      "E\n"
     ]
    },
    {
     "ename": "KeyError",
     "evalue": "2",
     "output_type": "error",
     "traceback": [
      "\u001b[1;31m---------------------------------------------------------------------------\u001b[0m",
      "\u001b[1;31mKeyError\u001b[0m                                  Traceback (most recent call last)",
      "Cell \u001b[1;32mIn[1], line 8\u001b[0m\n\u001b[0;32m      1\u001b[0m x \u001b[38;5;241m=\u001b[39m{\n\u001b[0;32m      2\u001b[0m     \u001b[38;5;241m1\u001b[39m:{\u001b[38;5;124m'\u001b[39m\u001b[38;5;124mA\u001b[39m\u001b[38;5;124m'\u001b[39m:{\u001b[38;5;241m1\u001b[39m:\u001b[38;5;124m'\u001b[39m\u001b[38;5;124mA\u001b[39m\u001b[38;5;124m'\u001b[39m},\u001b[38;5;241m2\u001b[39m:\u001b[38;5;124m'\u001b[39m\u001b[38;5;124mB\u001b[39m\u001b[38;5;124m'\u001b[39m},\n\u001b[0;32m      3\u001b[0m     \u001b[38;5;241m3\u001b[39m:\u001b[38;5;124m'\u001b[39m\u001b[38;5;124mC\u001b[39m\u001b[38;5;124m'\u001b[39m,\n\u001b[0;32m      4\u001b[0m     \u001b[38;5;124m'\u001b[39m\u001b[38;5;124mB\u001b[39m\u001b[38;5;124m'\u001b[39m:\u001b[38;5;124m'\u001b[39m\u001b[38;5;124mD\u001b[39m\u001b[38;5;124m'\u001b[39m,\n\u001b[0;32m      5\u001b[0m     \u001b[38;5;124m'\u001b[39m\u001b[38;5;124mD\u001b[39m\u001b[38;5;124m'\u001b[39m:\u001b[38;5;124m'\u001b[39m\u001b[38;5;124mE\u001b[39m\u001b[38;5;124m'\u001b[39m\n\u001b[0;32m      6\u001b[0m }\n\u001b[0;32m      7\u001b[0m \u001b[38;5;28mprint\u001b[39m(x[x[x[\u001b[38;5;241m1\u001b[39m][\u001b[38;5;241m2\u001b[39m]]])\n\u001b[1;32m----> 8\u001b[0m \u001b[38;5;28mprint\u001b[39m(x[\u001b[43mx\u001b[49m\u001b[43m[\u001b[49m\u001b[38;5;241;43m1\u001b[39;49m\u001b[43m]\u001b[49m\u001b[43m[\u001b[49m\u001b[38;5;124;43m'\u001b[39;49m\u001b[38;5;124;43mA\u001b[39;49m\u001b[38;5;124;43m'\u001b[39;49m\u001b[43m]\u001b[49m\u001b[43m[\u001b[49m\u001b[38;5;241;43m2\u001b[39;49m\u001b[43m]\u001b[49m])\n",
      "\u001b[1;31mKeyError\u001b[0m: 2"
     ]
    }
   ],
   "source": [
    "x ={\n",
    "    1:{'A':{1:'A'},2:'B'},\n",
    "    3:'C',\n",
    "    'B':'D',\n",
    "    'D':'E'\n",
    "}\n",
    "print(x[x[x[1][2]]])\n",
    "print(x[x[1]['A'][2]])"
   ]
  },
  {
   "cell_type": "code",
   "execution_count": 2,
   "id": "120bf205",
   "metadata": {},
   "outputs": [
    {
     "name": "stdout",
     "output_type": "stream",
     "text": [
      "True\n"
     ]
    },
    {
     "ename": "TypeError",
     "evalue": "'>' not supported between instances of 'dict' and 'dict'",
     "output_type": "error",
     "traceback": [
      "\u001b[1;31m---------------------------------------------------------------------------\u001b[0m",
      "\u001b[1;31mTypeError\u001b[0m                                 Traceback (most recent call last)",
      "Cell \u001b[1;32mIn[2], line 5\u001b[0m\n\u001b[0;32m      2\u001b[0m y \u001b[38;5;241m=\u001b[39m {\u001b[38;5;241m2\u001b[39m:\u001b[38;5;241m1\u001b[39m,\u001b[38;5;241m1\u001b[39m:\u001b[38;5;241m2\u001b[39m}\n\u001b[0;32m      4\u001b[0m \u001b[38;5;28mprint\u001b[39m(x \u001b[38;5;241m==\u001b[39m y)\n\u001b[1;32m----> 5\u001b[0m \u001b[38;5;28mprint\u001b[39m(\u001b[43mx\u001b[49m\u001b[43m \u001b[49m\u001b[38;5;241;43m>\u001b[39;49m\u001b[43m \u001b[49m\u001b[43my\u001b[49m)\n",
      "\u001b[1;31mTypeError\u001b[0m: '>' not supported between instances of 'dict' and 'dict'"
     ]
    }
   ],
   "source": [
    "x = {1:2,2:1}\n",
    "y = {2:1,1:2}\n",
    "\n",
    "print(x == y)\n",
    "print(x > y)"
   ]
  },
  {
   "cell_type": "code",
   "execution_count": null,
   "id": "3f4ca6ce",
   "metadata": {},
   "outputs": [],
   "source": []
  }
 ],
 "metadata": {
  "kernelspec": {
   "display_name": "Python 3 (ipykernel)",
   "language": "python",
   "name": "python3"
  },
  "language_info": {
   "codemirror_mode": {
    "name": "ipython",
    "version": 3
   },
   "file_extension": ".py",
   "mimetype": "text/x-python",
   "name": "python",
   "nbconvert_exporter": "python",
   "pygments_lexer": "ipython3",
   "version": "3.10.9"
  }
 },
 "nbformat": 4,
 "nbformat_minor": 5
}
