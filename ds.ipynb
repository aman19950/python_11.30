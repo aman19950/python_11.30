{
 "cells": [
  {
   "cell_type": "markdown",
   "id": "7ae14a12",
   "metadata": {},
   "source": [
    "## List and Tuple\n",
    "\n",
    "1. List is a collection different data types.(same in tuple).\n",
    "2. List is ordered. (same in tuple)\n",
    "3. List is indexed. (same in tuple)\n",
    "4. repeative elements can be allowed in list and tuple also.\n",
    "5. List is <b>mutable</b> and tuple is <b>immutable</b>"
   ]
  },
  {
   "cell_type": "code",
   "execution_count": 1,
   "id": "197f5763",
   "metadata": {},
   "outputs": [
    {
     "name": "stdout",
     "output_type": "stream",
     "text": [
      "[1, 'hello', 'hey', 5.6, True, 1, 1, 1, 1]\n"
     ]
    }
   ],
   "source": [
    "x = [1, \"hello\", 'hey', 5.6, True,1,1,1,1]\n",
    "\n",
    "print(x)"
   ]
  },
  {
   "cell_type": "code",
   "execution_count": 3,
   "id": "1259221f",
   "metadata": {},
   "outputs": [
    {
     "name": "stdout",
     "output_type": "stream",
     "text": [
      "5.6\n"
     ]
    }
   ],
   "source": [
    "print(x[3])"
   ]
  },
  {
   "cell_type": "code",
   "execution_count": 5,
   "id": "491e9ed1",
   "metadata": {},
   "outputs": [
    {
     "name": "stdout",
     "output_type": "stream",
     "text": [
      "[1, 'hello', 'hiiiiiiiiiiii', 5.6]\n"
     ]
    }
   ],
   "source": [
    "x = [1, \"hello\", 'hey', 5.6]\n",
    "\n",
    "x[2] = \"hiiiiiiiiiiii\"\n",
    "print(x)"
   ]
  },
  {
   "cell_type": "code",
   "execution_count": 7,
   "id": "d35e1c1d",
   "metadata": {},
   "outputs": [
    {
     "name": "stdout",
     "output_type": "stream",
     "text": [
      "['hey', 5.6, 89]\n"
     ]
    }
   ],
   "source": [
    "x = [1, \"hello\", 'hey', 5.6, 89, 78]\n",
    "\n",
    "print(x[2:5])"
   ]
  },
  {
   "cell_type": "code",
   "execution_count": 10,
   "id": "e68234a9",
   "metadata": {},
   "outputs": [
    {
     "name": "stdout",
     "output_type": "stream",
     "text": [
      "[1, 'hello', 100, 200, 300, 4500, 600, 800, 78]\n"
     ]
    }
   ],
   "source": [
    "x = [1, \"hello\", 'hey', 5.6, 89,78]\n",
    "\n",
    "x[2:5] = [100,200,300,4500,600,800]\n",
    "\n",
    "print(x)"
   ]
  },
  {
   "cell_type": "code",
   "execution_count": 9,
   "id": "bba7d4f3",
   "metadata": {},
   "outputs": [
    {
     "name": "stdout",
     "output_type": "stream",
     "text": [
      "9\n",
      "4\n",
      "2\n"
     ]
    }
   ],
   "source": [
    "x = [1, \"hello\", 'hey', 5.6, 89,78,1,1,1]\n",
    "\n",
    "print(len(x))\n",
    "print(x.count(1))\n",
    "print(x.index('hey'))\n"
   ]
  },
  {
   "cell_type": "code",
   "execution_count": 15,
   "id": "8f56dd62",
   "metadata": {},
   "outputs": [
    {
     "name": "stdout",
     "output_type": "stream",
     "text": [
      "[11, 22, 33, 44, 78, 'heyy', 6.7]\n"
     ]
    }
   ],
   "source": [
    "x = [11,22,33,44]\n",
    "\n",
    "# x.append(\"hello\")         # it will add element in the last of the list only\n",
    "# x.insert(2,\"heyyyy\")      # it will add element at the particular index of the list\n",
    "x.extend([78,\"heyy\",6.7])   # it will add multiple elements at the last of the list\n",
    "print(x)"
   ]
  },
  {
   "cell_type": "code",
   "execution_count": 16,
   "id": "5364d5d1",
   "metadata": {},
   "outputs": [
    {
     "name": "stdout",
     "output_type": "stream",
     "text": [
      "[11, 22, 33, 44, ['heyy', 'hi', 56]]\n"
     ]
    }
   ],
   "source": [
    "x = [11,22,33,44]\n",
    "\n",
    "x.append([\"heyy\",\"hi\",56])\n",
    "\n",
    "print(x)"
   ]
  },
  {
   "cell_type": "code",
   "execution_count": 17,
   "id": "835b5f32",
   "metadata": {},
   "outputs": [
    {
     "name": "stdout",
     "output_type": "stream",
     "text": [
      "7\n"
     ]
    }
   ],
   "source": [
    "x = [1, 2, [3, 4, [5, 6, 7, 8], 9, 10], 11, 12]\n",
    "print(x[2][2][2])"
   ]
  },
  {
   "cell_type": "code",
   "execution_count": 18,
   "id": "a57ab74c",
   "metadata": {},
   "outputs": [
    {
     "name": "stdout",
     "output_type": "stream",
     "text": [
      "6\n"
     ]
    }
   ],
   "source": [
    "x = [[1, [2, 3, 4, [5, 6, 7, 8], 9, 10, 11], 12]]\n",
    "print(x[0][1][3][1])"
   ]
  },
  {
   "cell_type": "code",
   "execution_count": 19,
   "id": "05a41287",
   "metadata": {},
   "outputs": [
    {
     "name": "stdout",
     "output_type": "stream",
     "text": [
      "[1, 2, 3, 1, 2, 3, 1, 2, 3]\n"
     ]
    }
   ],
   "source": [
    "x = [1,2,3] *3\n",
    "print(x)"
   ]
  },
  {
   "cell_type": "code",
   "execution_count": 24,
   "id": "1420132d",
   "metadata": {},
   "outputs": [
    {
     "name": "stdout",
     "output_type": "stream",
     "text": [
      "1390866705216\n",
      "1390866705216\n",
      "1390866705216\n",
      "[[100], [100], [100]]\n"
     ]
    }
   ],
   "source": [
    "x = [ [] ] * 3\n",
    "# x[0].append(100)\n",
    "print(id(x[0]))\n",
    "print(id(x[1]))\n",
    "print(id(x[2]))\n",
    "x[0].append(100)\n",
    "print(x)"
   ]
  },
  {
   "cell_type": "code",
   "execution_count": 22,
   "id": "3d1ea0ac",
   "metadata": {},
   "outputs": [
    {
     "name": "stdout",
     "output_type": "stream",
     "text": [
      "[1, 2, [3, 4, [5, 6, 2000, 7, 8], 9, 10], 11, 12]\n"
     ]
    }
   ],
   "source": [
    "x = [1, 2, [3, 4, [5, 6, 7, 8], 9, 10], 11, 12]\n",
    "\n",
    "# x = [1, 2, [3, 4, [5, 6, 7, 8,1000], 9, 10], 11, 12]\n",
    "# x[2][2].append(1000)\n",
    "# print(x)\n",
    "# x = [1, 2, [3, 4, [5, 6,2000, 7, 8], 9, 10], 11, 12]\n",
    "x[2][2].insert(2,2000)\n",
    "print(x)\n",
    "# x = [1, 2, [3, 4,3000, [5, 6, 7, 8], 9, 10], 11, 12]"
   ]
  },
  {
   "cell_type": "code",
   "execution_count": 25,
   "id": "57d3c0f0",
   "metadata": {},
   "outputs": [
    {
     "name": "stdout",
     "output_type": "stream",
     "text": [
      "[[100], [], []]\n"
     ]
    }
   ],
   "source": [
    "x = [ [],[],[]]\n",
    "x[0].append(100)\n",
    "print(x)"
   ]
  },
  {
   "cell_type": "code",
   "execution_count": 4,
   "id": "3812b999",
   "metadata": {},
   "outputs": [
    {
     "name": "stdout",
     "output_type": "stream",
     "text": [
      "minimum element is =  5\n",
      "maximum element is =  3213\n",
      "sum of elements is =  3536\n",
      "[3213, 212, 51, 44, 11, 5]\n"
     ]
    }
   ],
   "source": [
    "\n",
    "x = [11,212,3213,44,5,51]\n",
    "\n",
    "print(\"minimum element is = \",min(x))\n",
    "print(\"maximum element is = \",max(x))\n",
    "print(\"sum of elements is = \",sum(x))\n",
    "\n",
    "x.sort(reverse = True)\n",
    "print(x)"
   ]
  },
  {
   "cell_type": "code",
   "execution_count": 5,
   "id": "a359d3dd",
   "metadata": {},
   "outputs": [
    {
     "name": "stdout",
     "output_type": "stream",
     "text": [
      "minimum element is =  hello\n",
      "maximum element is =  hi\n",
      "['hello', 'hey', 'hi']\n"
     ]
    }
   ],
   "source": [
    "# x = [11,212,\"hello\",3213,44,\"hi\",5,51]\n",
    "x =  [\"hello\",\"hi\",\"hey\"]\n",
    "\n",
    "\n",
    "print(\"minimum element is = \",min(x))\n",
    "print(\"maximum element is = \",max(x))\n",
    "# print(\"sum of elements is = \",sum(x))\n",
    "x.sort()\n",
    "print(x)"
   ]
  },
  {
   "cell_type": "code",
   "execution_count": 15,
   "id": "2d5d22e6",
   "metadata": {},
   "outputs": [
    {
     "name": "stdout",
     "output_type": "stream",
     "text": [
      "[]\n"
     ]
    }
   ],
   "source": [
    "x = [11,22,33,33,\"hello\",44,55,66,33]\n",
    "\n",
    "# x.remove(33)\n",
    "# del x\n",
    "# del x[1]\n",
    "# del x[1:4]\n",
    "# z = x.pop()\n",
    "# z = x.pop(4)\n",
    "x.clear()\n",
    "\n",
    "print(x)\n",
    "# print(z)"
   ]
  },
  {
   "cell_type": "code",
   "execution_count": 13,
   "id": "4909e155",
   "metadata": {},
   "outputs": [
    {
     "name": "stdout",
     "output_type": "stream",
     "text": [
      "<class 'list'>\n"
     ]
    }
   ],
   "source": [
    "z = []\n",
    "print(type(z))"
   ]
  },
  {
   "cell_type": "code",
   "execution_count": 17,
   "id": "687e5b3c",
   "metadata": {},
   "outputs": [
    {
     "name": "stdout",
     "output_type": "stream",
     "text": [
      "yes, present\n",
      "not present\n"
     ]
    }
   ],
   "source": [
    "x = [\"hello\",11, 22,\"hi\"]\n",
    "\n",
    "\n",
    "if 11 in x:\n",
    "    print(\"yes, present\")\n",
    "else:\n",
    "    print(\"not present\")\n",
    "    \n",
    "if 111 not in x:\n",
    "    print(\"not present\")\n",
    "else:\n",
    "    print(\"yes, present\")"
   ]
  },
  {
   "cell_type": "code",
   "execution_count": 23,
   "id": "a348c77c",
   "metadata": {},
   "outputs": [
    {
     "name": "stdout",
     "output_type": "stream",
     "text": [
      "hello\n",
      "11\n",
      "22\n",
      "hi\n",
      "----------------\n",
      "0 --- hello\n",
      "1 --- 11\n",
      "2 --- 22\n",
      "3 --- hi\n"
     ]
    }
   ],
   "source": [
    "x = [\"hello\",11, 22,\"hi\"]\n",
    "\n",
    "\n",
    "for i in x:\n",
    "    print(i)\n",
    "\n",
    "print(\"----------------\")\n",
    "\n",
    "for i in range(len(x)):\n",
    "    print(i,\"---\",x[i])"
   ]
  },
  {
   "cell_type": "code",
   "execution_count": 24,
   "id": "6fa4aa27",
   "metadata": {},
   "outputs": [
    {
     "name": "stdout",
     "output_type": "stream",
     "text": [
      "['hello monu', 'hello sonu', 'hi monu', 'hi sonu']\n"
     ]
    }
   ],
   "source": [
    "x = [\"hello\",\"hi\"]\n",
    "y = [\"monu\",\"sonu\"]\n",
    "\n",
    "# output:\n",
    "# z = [\"hello monu\",\"hello sonu\",\"hi monu\",\"hi sonu\"]\n",
    "\n",
    "z = []\n",
    "\n",
    "for i in x:\n",
    "    for j in y:\n",
    "        z.append(i+\" \"+j)\n",
    "        \n",
    "print(z)"
   ]
  },
  {
   "cell_type": "markdown",
   "id": "ceff5a0b",
   "metadata": {},
   "source": [
    "# List Comphresion"
   ]
  },
  {
   "cell_type": "code",
   "execution_count": 2,
   "id": "303a56ba",
   "metadata": {},
   "outputs": [
    {
     "name": "stdout",
     "output_type": "stream",
     "text": [
      "['hello monu', 'hello sonu', 'hi monu', 'hi sonu']\n"
     ]
    }
   ],
   "source": [
    "x = [\"hello\",\"hi\"]\n",
    "y = [\"monu\",\"sonu\"]\n",
    "\n",
    "# output:\n",
    "# z = [\"hello monu\",\"hello sonu\",\"hi monu\",\"hi sonu\"]\n",
    "\n",
    "z  = [i+' '+j for i in x for j in y]\n",
    "\n",
    "# for i in x:\n",
    "#     for j in y:\n",
    "#         z.append(i+' '+j)\n",
    "print(z)"
   ]
  },
  {
   "cell_type": "code",
   "execution_count": 25,
   "id": "bd327d09",
   "metadata": {},
   "outputs": [
    {
     "name": "stdout",
     "output_type": "stream",
     "text": [
      "['my', 'name', 'is', 'aman']\n"
     ]
    }
   ],
   "source": [
    "# Q2\n",
    "x = ['m','na','i','am']\n",
    "y = ['y','me','s','an']\n",
    "\n",
    "# output\n",
    "# z = ['my','name','is','aman']\n",
    "z = []\n",
    "\n",
    "for i in range(len(x)):\n",
    "    z.append(x[i]+y[i])\n",
    "\n",
    "print(z)"
   ]
  },
  {
   "cell_type": "code",
   "execution_count": 3,
   "id": "32604475",
   "metadata": {},
   "outputs": [
    {
     "name": "stdout",
     "output_type": "stream",
     "text": [
      "[11, 22, 44, 44, 55]\n"
     ]
    }
   ],
   "source": [
    "# Q3. wap to remove all the occurrence of 33 from the list \n",
    "x = [11,33,22,33,33,44,44,33,33,55,33,33]\n",
    "\n",
    "\n",
    "z = [i for i in x if i != 33]      \n",
    "print(z)"
   ]
  },
  {
   "cell_type": "code",
   "execution_count": 28,
   "id": "f3d6ad9d",
   "metadata": {},
   "outputs": [
    {
     "name": "stdout",
     "output_type": "stream",
     "text": [
      "[11, 22, 44, 44, 55]\n"
     ]
    }
   ],
   "source": [
    "x = [11,33,22,33,33,44,44,33,33,55,33,33]\n",
    "\n",
    "while 33 in x:\n",
    "    x.remove(33)\n",
    "      \n",
    "print(x)"
   ]
  },
  {
   "cell_type": "code",
   "execution_count": 4,
   "id": "2a4c0955",
   "metadata": {},
   "outputs": [
    {
     "name": "stdout",
     "output_type": "stream",
     "text": [
      "[11, 33, 22, 44, 55]\n"
     ]
    }
   ],
   "source": [
    "# Q4. wap to create a list of unique elements from the given list\n",
    "x = [11,33,22,33,33,44,44,33,33,55,33,33]\n",
    "\n",
    "# output:-\n",
    "# z = [11,33,22,44,55]\n",
    "z = []\n",
    "\n",
    "for i in x:\n",
    "    if i not in z:\n",
    "        z.append(i)\n",
    "print(z)"
   ]
  },
  {
   "cell_type": "code",
   "execution_count": 5,
   "id": "33e0e992",
   "metadata": {},
   "outputs": [
    {
     "name": "stdout",
     "output_type": "stream",
     "text": [
      "a\n"
     ]
    }
   ],
   "source": [
    "x = [\"raman\",\"aman\",\"daman\",\"vaman\",\"mohan\"]\n",
    "print(x[-1][-2])"
   ]
  },
  {
   "cell_type": "code",
   "execution_count": 8,
   "id": "9c4a040a",
   "metadata": {},
   "outputs": [
    {
     "name": "stdout",
     "output_type": "stream",
     "text": [
      "abbca\n",
      "1221\n",
      "1331\n"
     ]
    }
   ],
   "source": [
    "x = [\"abbca\",\"abcc\",\"1221\",\"1331\",\"121\"]\n",
    "\n",
    "# for i in x:\n",
    "#     if len(i) > 3 and i[0] == i[-1]:\n",
    "#         print(i)\n",
    "    \n",
    "for i in range(len(x)):\n",
    "    if len(x[i]) > 3 and x[i][0] == x[i][-1]:\n",
    "        print(x[i])"
   ]
  },
  {
   "cell_type": "code",
   "execution_count": null,
   "id": "4efff503",
   "metadata": {},
   "outputs": [],
   "source": []
  }
 ],
 "metadata": {
  "kernelspec": {
   "display_name": "Python 3 (ipykernel)",
   "language": "python",
   "name": "python3"
  },
  "language_info": {
   "codemirror_mode": {
    "name": "ipython",
    "version": 3
   },
   "file_extension": ".py",
   "mimetype": "text/x-python",
   "name": "python",
   "nbconvert_exporter": "python",
   "pygments_lexer": "ipython3",
   "version": "3.10.9"
  }
 },
 "nbformat": 4,
 "nbformat_minor": 5
}
