{
 "cells": [
  {
   "cell_type": "code",
   "execution_count": 2,
   "id": "186cb910",
   "metadata": {},
   "outputs": [
    {
     "name": "stdout",
     "output_type": "stream",
     "text": [
      "[1, 2, 3, 100]\n",
      "1721814126208\n",
      "[1, 2, 3, 100]\n",
      "1721814126208\n"
     ]
    }
   ],
   "source": [
    "x = [1,2,3]\n",
    "\n",
    "y = x\n",
    "\n",
    "y.append(100)\n",
    "\n",
    "print(x) # [1,2,3] ---> [1,2,3,100]\n",
    "print(id(x))\n",
    "print(y) # [1,2,3] ---> [1,2,3,100]\n",
    "print(id(y))"
   ]
  },
  {
   "cell_type": "code",
   "execution_count": 8,
   "id": "81b91df1",
   "metadata": {},
   "outputs": [
    {
     "name": "stdout",
     "output_type": "stream",
     "text": [
      "[[1, 2, 3]]\n",
      "1721813825472\n",
      "[[1, 2, 3, 100]]\n",
      "1721814126208\n"
     ]
    }
   ],
   "source": [
    "import copy\n",
    "\n",
    "x = [[1,2,3]]\n",
    "\n",
    "y = copy.deepcopy(x)\n",
    "\n",
    "y[0].append(100)\n",
    "\n",
    "print(x)\n",
    "print(id(x))\n",
    "print(y)\n",
    "print(id(y))"
   ]
  },
  {
   "cell_type": "code",
   "execution_count": null,
   "id": "80948f4d",
   "metadata": {},
   "outputs": [],
   "source": []
  }
 ],
 "metadata": {
  "kernelspec": {
   "display_name": "Python 3 (ipykernel)",
   "language": "python",
   "name": "python3"
  },
  "language_info": {
   "codemirror_mode": {
    "name": "ipython",
    "version": 3
   },
   "file_extension": ".py",
   "mimetype": "text/x-python",
   "name": "python",
   "nbconvert_exporter": "python",
   "pygments_lexer": "ipython3",
   "version": "3.10.9"
  }
 },
 "nbformat": 4,
 "nbformat_minor": 5
}
